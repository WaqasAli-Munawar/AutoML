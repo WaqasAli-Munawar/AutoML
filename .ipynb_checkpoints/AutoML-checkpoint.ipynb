{
 "cells": [
  {
   "cell_type": "markdown",
   "metadata": {},
   "source": [
    "**Machine Learning** has an outstanding achievement in the field of **Artificial Intelligence**. The algorithms behind the success of **Machine Learning** are **Deep Neural Networks** which were made after research of years through the expert researchers. The only difficulties the researchers faced was the discovery of **AutoMl**. \n",
    "* **AutoML** is that field that aims to automate the style of **Machine Learning Algorithms**. Till now the **AutoML** has only aimed at building solutions by joining the sensitive **hand-designed components**."
   ]
  },
  {
   "cell_type": "markdown",
   "metadata": {},
   "source": [
    "The only alternative method to use the **hand-designed components** in **AutoML** is the search for the whole algorithm from the zero levels. The main challenge in exploring the entire algorithm from zero degrees is that it needs intense exploration, which has some benefits as well, though, but it requires us to go through what we already know, which may help us in improving our Machine Learning architectures. \n",
    "\n",
    "For example, if we want to build a building from zero levels, there are very much chances of opportunities for strengthening the structure of our building rather than just constructing a building with pre-fabricated rooms."
   ]
  },
  {
   "cell_type": "markdown",
   "metadata": {},
   "source": [
    "### What is AutoMl?\n",
    "\n",
    "**AutoML** makes the power of a Machine Learning algorithm available to us even if we don’t have the complete knowledge of Machine Learning. We can use **Automated Machine Learning** to build the capabilities of our Machine Learning Algorithms to create our fully customized machine learning models that can be used according to the need of our business.\n",
    "\n",
    "By the name **AutoML**, we get the idea that it means **Automatic Machine Learning**. **AutoML** provides the methods to make the Machine Learning Algorithms available to those businessmen who cannot hire a Data Scientist. It’s as easy as it can be used as a complete machine learning platform even if we don’t know what machine learning is about."
   ]
  },
  {
   "cell_type": "markdown",
   "metadata": {},
   "source": [
    "### When to use Automated Machine Learning?\n",
    "\n",
    "We can apply **AutoML** or **Automated Machine Learning** if we want the Machine Learning to train a model and tune hyperparameters for us by using the target metric we specify to **AutoML**. The **Automated Machine Learning** will reduce the process of preparing our **Machine Learning algorithm** irrespective of our experience in Machine Learning."
   ]
  },
  {
   "cell_type": "markdown",
   "metadata": {},
   "source": [
    "The Data Scientists, Data Analysts, and other Machine Learning experts can use the Automated Machine Learning to:\n",
    "\n",
    "* Implement Machine Learning Algorithms without expertise programming knowledge.\n",
    "* Save time and resources\n",
    "* Leveraging the best practices of Data Science\n",
    "* Provide the most intelligent and accurate solutions."
   ]
  },
  {
   "cell_type": "code",
   "execution_count": null,
   "metadata": {},
   "outputs": [],
   "source": []
  }
 ],
 "metadata": {
  "kernelspec": {
   "display_name": "Python 3",
   "language": "python",
   "name": "python3"
  },
  "language_info": {
   "codemirror_mode": {
    "name": "ipython",
    "version": 3
   },
   "file_extension": ".py",
   "mimetype": "text/x-python",
   "name": "python",
   "nbconvert_exporter": "python",
   "pygments_lexer": "ipython3",
   "version": "3.7.6"
  }
 },
 "nbformat": 4,
 "nbformat_minor": 4
}
